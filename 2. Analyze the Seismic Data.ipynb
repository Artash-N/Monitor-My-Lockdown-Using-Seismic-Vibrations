{
 "cells": [
  {
   "cell_type": "markdown",
   "metadata": {},
   "source": [
    "-------------------------------------------------------------\n",
    "\n",
    "<font size=\"6\"> Monitor My Lockdown Using Seismic Vibration </font>\n",
    "\n",
    "-------------------------------------------------------------\n",
    "\n",
    "### Project Website : http://monitormylockdown.com/\n",
    "\n",
    "-------------------------------------------------------------\n",
    "\n",
    "\n",
    "#### By Artash Nath\n",
    "\n",
    "#### Co-Founder, https://hotpoprobot.com/\n",
    "\n",
    "#### Twitter https://twitter.com/wonrobot\n",
    "\n",
    "-------------------------------------------------------------"
   ]
  },
  {
   "cell_type": "markdown",
   "metadata": {},
   "source": [
    "-------------------------------------\n",
    "\n",
    "## Part 2 : Analyzing Downloaded Seismic Data\n",
    "\n",
    "-------------------------------------\n",
    "\n",
    "In the First Notebook, the process for simply downloading the MSEED Files for the specified city were shown.\n",
    "\n",
    "In this notebook, the process for loading, frequency-analysis, and making sense of this Data is explained.\n",
    "\n",
    "-------------------------------------"
   ]
  },
  {
   "cell_type": "code",
   "execution_count": 1,
   "metadata": {
    "collapsed": true
   },
   "outputs": [
    {
     "name": "stdout",
     "output_type": "stream",
     "text": [
      "Requirement already satisfied: numpy in c:\\users\\vikas\\anaconda3\\lib\\site-packages (1.19.3)\n",
      "Requirement already satisfied: tqdm in c:\\users\\vikas\\anaconda3\\lib\\site-packages (4.50.2)\n",
      "Requirement already satisfied: obspy in c:\\users\\vikas\\anaconda3\\lib\\site-packages (1.2.1)\n",
      "Requirement already satisfied: future>=0.12.4 in c:\\users\\vikas\\anaconda3\\lib\\site-packages (from obspy) (0.18.2)\n",
      "Requirement already satisfied: requests in c:\\users\\vikas\\anaconda3\\lib\\site-packages (from obspy) (2.24.0)\n",
      "Requirement already satisfied: decorator in c:\\users\\vikas\\anaconda3\\lib\\site-packages (from obspy) (4.4.2)\n",
      "Requirement already satisfied: scipy>=0.9.0 in c:\\users\\vikas\\anaconda3\\lib\\site-packages (from obspy) (1.5.2)\n",
      "Requirement already satisfied: sqlalchemy in c:\\users\\vikas\\anaconda3\\lib\\site-packages (from obspy) (1.3.20)\n",
      "Requirement already satisfied: matplotlib>=1.1.0 in c:\\users\\vikas\\anaconda3\\lib\\site-packages (from obspy) (3.3.2)\n",
      "Requirement already satisfied: setuptools in c:\\users\\vikas\\anaconda3\\lib\\site-packages (from obspy) (50.3.0.post20201006)\n",
      "Requirement already satisfied: numpy>=1.6.1 in c:\\users\\vikas\\anaconda3\\lib\\site-packages (from obspy) (1.19.3)\n",
      "Requirement already satisfied: lxml in c:\\users\\vikas\\anaconda3\\lib\\site-packages (from obspy) (4.6.1)\n",
      "Requirement already satisfied: chardet<4,>=3.0.2 in c:\\users\\vikas\\anaconda3\\lib\\site-packages (from requests->obspy) (3.0.4)\n",
      "Requirement already satisfied: certifi>=2017.4.17 in c:\\users\\vikas\\anaconda3\\lib\\site-packages (from requests->obspy) (2020.12.5)\n",
      "Requirement already satisfied: idna<3,>=2.5 in c:\\users\\vikas\\anaconda3\\lib\\site-packages (from requests->obspy) (2.10)\n",
      "Requirement already satisfied: urllib3!=1.25.0,!=1.25.1,<1.26,>=1.21.1 in c:\\users\\vikas\\anaconda3\\lib\\site-packages (from requests->obspy) (1.25.11)\n",
      "Requirement already satisfied: kiwisolver>=1.0.1 in c:\\users\\vikas\\anaconda3\\lib\\site-packages (from matplotlib>=1.1.0->obspy) (1.3.0)\n",
      "Requirement already satisfied: cycler>=0.10 in c:\\users\\vikas\\anaconda3\\lib\\site-packages (from matplotlib>=1.1.0->obspy) (0.10.0)\n",
      "Requirement already satisfied: python-dateutil>=2.1 in c:\\users\\vikas\\anaconda3\\lib\\site-packages (from matplotlib>=1.1.0->obspy) (2.8.1)\n",
      "Requirement already satisfied: pyparsing!=2.0.4,!=2.1.2,!=2.1.6,>=2.0.3 in c:\\users\\vikas\\anaconda3\\lib\\site-packages (from matplotlib>=1.1.0->obspy) (2.4.7)\n",
      "Requirement already satisfied: pillow>=6.2.0 in c:\\users\\vikas\\anaconda3\\lib\\site-packages (from matplotlib>=1.1.0->obspy) (8.0.1)\n",
      "Requirement already satisfied: six in c:\\users\\vikas\\anaconda3\\lib\\site-packages (from cycler>=0.10->matplotlib>=1.1.0->obspy) (1.15.0)\n"
     ]
    }
   ],
   "source": [
    "# If you have not already, install the required libraries for this code.\n",
    "\n",
    "\n",
    "# For mathematical operations on our data\n",
    "!pip install numpy  \n",
    "\n",
    "# Track the time-progress of some steps in the code as Some parts may take a considerable amount of time\n",
    "!pip install tqdm   \n",
    "\n",
    "# To Download the MSEED Seismic Files from the data source (https://www.iris.edu/)\n",
    "!pip install obspy  \n"
   ]
  },
  {
   "cell_type": "code",
   "execution_count": 1,
   "metadata": {},
   "outputs": [],
   "source": [
    "DATA_STORAGE_PATH = r'E:\\DATA'"
   ]
  },
  {
   "cell_type": "markdown",
   "metadata": {},
   "source": [
    "-------------------------------------\n",
    "## 1. Import Required Libararies\n",
    "-------------------------------------"
   ]
  },
  {
   "cell_type": "code",
   "execution_count": 2,
   "metadata": {},
   "outputs": [],
   "source": [
    "# Importing Required Libraries\n",
    "\n",
    "import datetime # To iterate and manage the dates we want to download our data over\n",
    "import os # Help with file directories\n",
    "import csv # Writing CSV files to temporarily store some Data\n",
    "import matplotlib.pyplot as plt # Displaying Graphs\n",
    "import matplotlib.ticker as ticker\n",
    "\n",
    "#Data Handling\n",
    "import numpy as np\n",
    "import pandas as pd\n",
    "import csv\n",
    "\n",
    "#Obspy is a Python libary to help download and process seismic data\n",
    "from obspy import UTCDateTime, read\n",
    "from obspy.clients.fdsn import Client\n",
    "\n",
    "# To break data into different frequencies\n",
    "from scipy import signal\n",
    "\n",
    "# Track program progress\n",
    "from tqdm.notebook import tqdm\n",
    "import threading\n",
    "\n",
    "# Warnings can be annoying- you can remove them with the following peice of code\n",
    "import warnings\n",
    "warnings.filterwarnings(\"ignore\")"
   ]
  },
  {
   "cell_type": "markdown",
   "metadata": {},
   "source": [
    "-------------------------------------\n",
    "## Station Information\n",
    "-------------------------------------\n",
    "\n",
    "This should be the same station information that was put into the \"1. Download Seismic Data.ipynb\" file"
   ]
  },
  {
   "cell_type": "code",
   "execution_count": 3,
   "metadata": {},
   "outputs": [],
   "source": [
    "start = UTCDateTime(\"2019-12-01\")  \n",
    "end = UTCDateTime(\"2021-4-20\")\n",
    "\n",
    "\n",
    "# Study Period - From Jan 2019 to Yesterday\n",
    "start = UTCDateTime(\"2019-12-01\")  \n",
    "end = UTCDateTime(\"2021-2-4\") # This can be changed to at most yesterday's date\n",
    "\n",
    "# Computing List of Dates To Analyze\n",
    "datelist = pd.date_range(start.datetime, end.datetime, freq=\"D\")\n",
    "\n",
    "\n",
    "\n",
    "# Station Information that stays the same no matter what station you pick\n",
    "location = \"--\" \n",
    "channel = \"HHZ\"\n",
    "data_provider = \"IRIS\"\n",
    "c = Client(data_provider)\n",
    "\n",
    "stations = ['TORO'] # This is the station name for the \"Toronto\" station, you can add as many stations as you want\n",
    "networks = ['WU'] # Simmilarely, this is TORO's Network Name, you must add the network for each station"
   ]
  },
  {
   "cell_type": "markdown",
   "metadata": {},
   "source": [
    "-------------------------------------\n",
    "## 2. Creating Functions\n",
    "-------------------------------------"
   ]
  },
  {
   "cell_type": "code",
   "execution_count": 4,
   "metadata": {},
   "outputs": [],
   "source": [
    "# Breaks a sample of raw data into it's frequency bands (1 - 50 Hz)\n",
    "# We are only able to get up to 50 Hz as the Seismic Data from the stations measure vibrations at 100 Hz\n",
    "# Returns 2 items- the PPSD, as well as the corresponding frequencies for the PPSD\n",
    "def PPSD(sequence):\n",
    "    return signal.welch(sequence, 100)"
   ]
  },
  {
   "cell_type": "code",
   "execution_count": 5,
   "metadata": {},
   "outputs": [],
   "source": [
    "# PPSD_ARRAY Takes an Entire Day's worth of Data, Breaks it into Chunks of 30 minutes with a 50% overlap\n",
    "# Then Breaks each chunk into it's frequencies using the PPSD Function Defined in the previous cell\n",
    "# Then combines chunks for the day into 12 2-hour periods and returns 2 items:\n",
    "# PPSDs for each 2-hour period, their corresponding frequencies\n",
    "def PPSD_ARRAY(raw_data):\n",
    "    \n",
    "    # a) Breaks the Raw Data into chunks of 30-minutes, with a 15-minute overlap\n",
    "    \n",
    "    n = (100) * (60) * 30 # Chunk Size (100 samples/second x 60-seconds/minute x 30-minutes)\n",
    "    m = (100) * (60) * 15 # Overlap Size (100 samples/second x 60-seconds/minute x 15-minutes)\n",
    "\n",
    "    chunks = [raw_data[i:i+n] for i in range(0, len(raw_data), n-m)] # Breaks the raw data into the chunks defined by m & n\n",
    "    \n",
    "    # b) Calculates the PPSD of each chunk\n",
    "    ppsd_rows = []\n",
    "    for c in chunks[:-1]: # Iterates over each chunk \n",
    "        c_ppsd = PPSD(c) # Calculates PPSD for the chunk\n",
    "        ppsd_rows.append(c_ppsd[1]) # Appends Item2 of the PPSD Function (Actual PPSD)\n",
    "        freq = c_ppsd[0]  # Stores Item2 of the PPSD Function (Corresponding Frequencies of the PPSD)\n",
    "        \n",
    "    # Converts both the PPSDs of each chunk, as well as the corresponding frequency list into Arrays\n",
    "    # (The Corresponding Frequencies stay the same for all chunks as they are all at the same sample rate)\n",
    "    ppsd_rows = np.array(ppsd_rows)\n",
    "    freq = np.array(freq)\n",
    "    \n",
    "    # C) Combine the day's worth of chunks into 2-hour periods \n",
    "    ppsd_rows = ppsd_rows[2:-2] # Removing Unnecesary Extremeties caused by the 50% data overlap\n",
    "    \n",
    "    # As we have 30-minute chunks with 15-minute overlaps, there are 96 such chunks in our data\n",
    "    # Therefore, a 2-hour period would be represented by 8 such chunks\n",
    "    \n",
    "    p1 = np.sum(ppsd_rows[:8], axis = 0) # Period 1 : 12 AM --> 2 AM\n",
    "    p2 = np.sum(ppsd_rows[8:16], axis = 0) # Period 2 : 2 AM --> 4 AM\n",
    "    p3 = np.sum(ppsd_rows[16:24], axis = 0) # Period 3 : 4 AM --> 6 AM\n",
    "    p4 = np.sum(ppsd_rows[24:32], axis = 0) # Period 4 : 6 AM --> 8 AM\n",
    "    p5 = np.sum(ppsd_rows[32:40], axis = 0) # Period 5 : 8 AM --> 10 AM\n",
    "    p6 = np.sum(ppsd_rows[40:48], axis = 0) # Period 6 : 10 AM --> 12 PM\n",
    "    p7 = np.sum(ppsd_rows[48:56], axis = 0) # Period 7 : 12 PM --> 2 PM\n",
    "    p8 = np.sum(ppsd_rows[56:64], axis = 0) # Period 8 : 2 PM --> 4 PM\n",
    "    p9 = np.sum(ppsd_rows[64:72], axis = 0) # Period 9 : 4 PM --> 6 PM\n",
    "    p10 = np.sum(ppsd_rows[72:80], axis = 0) # Period 10 : 6 PM --> 8 PM\n",
    "    p11 = np.sum(ppsd_rows[80:88], axis = 0) # Period 11 : 8 PM --> 10 PM\n",
    "    p12 = np.sum(ppsd_rows[88:96], axis = 0) # Period 11 : 10 PM --> 12 AM\n",
    "    \n",
    "    # Returns the PPSDs for Each 2-hour period in the day, as well as the corresponding frequencies for the PPSDs\n",
    "    return [p1, p2, p3, p4, p5, p6, p7, p8, p9, p10, p11, p12], freq"
   ]
  },
  {
   "cell_type": "code",
   "execution_count": 6,
   "metadata": {},
   "outputs": [],
   "source": [
    "def get_frequency_analysis(STATION, READINGS):\n",
    "    print(\"RUNNING TASK \", STATION)\n",
    "    DIR = os.path.join(DATA_STORAGE_PATH, STATION)\n",
    "    for day in tqdm(datelist):\n",
    "        fn = day.strftime(STATION + \"-%Y-%m-%d.mseed\")\n",
    "        fn = os.path.join(DIR, fn)\n",
    "        st = read(fn)\n",
    "        \n",
    "        data = np.array(st[0].data)\n",
    "\n",
    "        pxs = PPSD_ARRAY(data)\n",
    "        freq = pxs[1]\n",
    "        for p in pxs[0]:\n",
    "            READINGS.append(p)"
   ]
  },
  {
   "cell_type": "code",
   "execution_count": 8,
   "metadata": {
    "collapsed": true
   },
   "outputs": [
    {
     "name": "stdout",
     "output_type": "stream",
     "text": [
      "RUNNING TASK  TORO\n"
     ]
    },
    {
     "data": {
      "application/vnd.jupyter.widget-view+json": {
       "model_id": "a75d004f524949c3976671500192e11f",
       "version_major": 2,
       "version_minor": 0
      },
      "text/plain": [
       "HBox(children=(FloatProgress(value=0.0, max=432.0), HTML(value='')))"
      ]
     },
     "metadata": {},
     "output_type": "display_data"
    },
    {
     "ename": "KeyboardInterrupt",
     "evalue": "",
     "output_type": "error",
     "traceback": [
      "\u001b[1;31m---------------------------------------------------------------------------\u001b[0m",
      "\u001b[1;31mKeyboardInterrupt\u001b[0m                         Traceback (most recent call last)",
      "\u001b[1;32m_ctypes/callbacks.c\u001b[0m in \u001b[0;36m'calling callback function'\u001b[1;34m()\u001b[0m\n",
      "\u001b[1;32m~\\Anaconda3\\envs\\tf2\\lib\\site-packages\\obspy\\io\\mseed\\core.py\u001b[0m in \u001b[0;36mallocate_data\u001b[1;34m(samplecount, sampletype)\u001b[0m\n\u001b[0;32m    377\u001b[0m     \u001b[1;31m# Use a callback function to allocate the memory and keep track of the\u001b[0m\u001b[1;33m\u001b[0m\u001b[1;33m\u001b[0m\u001b[0m\n\u001b[0;32m    378\u001b[0m     \u001b[1;31m# data.\u001b[0m\u001b[1;33m\u001b[0m\u001b[1;33m\u001b[0m\u001b[0m\n\u001b[1;32m--> 379\u001b[1;33m     \u001b[1;32mdef\u001b[0m \u001b[0mallocate_data\u001b[0m\u001b[1;33m(\u001b[0m\u001b[0msamplecount\u001b[0m\u001b[1;33m,\u001b[0m \u001b[0msampletype\u001b[0m\u001b[1;33m)\u001b[0m\u001b[1;33m:\u001b[0m\u001b[1;33m\u001b[0m\u001b[0m\n\u001b[0m\u001b[0;32m    380\u001b[0m         \u001b[1;31m# Enhanced sanity checking for libmseed 2.10 can result in the\u001b[0m\u001b[1;33m\u001b[0m\u001b[1;33m\u001b[0m\u001b[0m\n\u001b[0;32m    381\u001b[0m         \u001b[1;31m# sampletype not being set. Just return an empty array in this case.\u001b[0m\u001b[1;33m\u001b[0m\u001b[1;33m\u001b[0m\u001b[0m\n",
      "\u001b[1;31mKeyboardInterrupt\u001b[0m: "
     ]
    },
    {
     "name": "stdout",
     "output_type": "stream",
     "text": [
      "\n"
     ]
    },
    {
     "ename": "OSError",
     "evalue": "exception: access violation writing 0x0000000000000000",
     "output_type": "error",
     "traceback": [
      "\u001b[1;31m---------------------------------------------------------------------------\u001b[0m",
      "\u001b[1;31mOSError\u001b[0m                                   Traceback (most recent call last)",
      "\u001b[1;32m<ipython-input-8-a8052450ca99>\u001b[0m in \u001b[0;36m<module>\u001b[1;34m\u001b[0m\n\u001b[0;32m      7\u001b[0m \u001b[1;33m\u001b[0m\u001b[0m\n\u001b[0;32m      8\u001b[0m \u001b[1;32mfor\u001b[0m \u001b[0mstation\u001b[0m\u001b[1;33m,\u001b[0m \u001b[0mcity_list\u001b[0m \u001b[1;32min\u001b[0m \u001b[0mzip\u001b[0m\u001b[1;33m(\u001b[0m\u001b[0mstations\u001b[0m\u001b[1;33m,\u001b[0m \u001b[0mall_city_lists\u001b[0m\u001b[1;33m)\u001b[0m\u001b[1;33m:\u001b[0m\u001b[1;33m\u001b[0m\u001b[0m\n\u001b[1;32m----> 9\u001b[1;33m     \u001b[0mget_frequency_analysis\u001b[0m\u001b[1;33m(\u001b[0m\u001b[0mstation\u001b[0m\u001b[1;33m,\u001b[0m \u001b[0mcity_list\u001b[0m\u001b[1;33m)\u001b[0m\u001b[1;33m\u001b[0m\u001b[0m\n\u001b[0m",
      "\u001b[1;32m<ipython-input-6-cabe8fc3e194>\u001b[0m in \u001b[0;36mget_frequency_analysis\u001b[1;34m(STATION, READINGS)\u001b[0m\n\u001b[0;32m      5\u001b[0m         \u001b[0mfn\u001b[0m \u001b[1;33m=\u001b[0m \u001b[0mday\u001b[0m\u001b[1;33m.\u001b[0m\u001b[0mstrftime\u001b[0m\u001b[1;33m(\u001b[0m\u001b[0mSTATION\u001b[0m \u001b[1;33m+\u001b[0m \u001b[1;34m\"-%Y-%m-%d.mseed\"\u001b[0m\u001b[1;33m)\u001b[0m\u001b[1;33m\u001b[0m\u001b[0m\n\u001b[0;32m      6\u001b[0m         \u001b[0mfn\u001b[0m \u001b[1;33m=\u001b[0m \u001b[0mos\u001b[0m\u001b[1;33m.\u001b[0m\u001b[0mpath\u001b[0m\u001b[1;33m.\u001b[0m\u001b[0mjoin\u001b[0m\u001b[1;33m(\u001b[0m\u001b[0mDIR\u001b[0m\u001b[1;33m,\u001b[0m \u001b[0mfn\u001b[0m\u001b[1;33m)\u001b[0m\u001b[1;33m\u001b[0m\u001b[0m\n\u001b[1;32m----> 7\u001b[1;33m         \u001b[0mst\u001b[0m \u001b[1;33m=\u001b[0m \u001b[0mread\u001b[0m\u001b[1;33m(\u001b[0m\u001b[0mfn\u001b[0m\u001b[1;33m)\u001b[0m\u001b[1;33m\u001b[0m\u001b[0m\n\u001b[0m\u001b[0;32m      8\u001b[0m \u001b[1;33m\u001b[0m\u001b[0m\n\u001b[0;32m      9\u001b[0m         \u001b[0mdata\u001b[0m \u001b[1;33m=\u001b[0m \u001b[0mnp\u001b[0m\u001b[1;33m.\u001b[0m\u001b[0marray\u001b[0m\u001b[1;33m(\u001b[0m\u001b[0mst\u001b[0m\u001b[1;33m[\u001b[0m\u001b[1;36m0\u001b[0m\u001b[1;33m]\u001b[0m\u001b[1;33m.\u001b[0m\u001b[0mdata\u001b[0m\u001b[1;33m)\u001b[0m\u001b[1;33m\u001b[0m\u001b[0m\n",
      "\u001b[1;32m<decorator-gen-157>\u001b[0m in \u001b[0;36mread\u001b[1;34m(pathname_or_url, format, headonly, starttime, endtime, nearest_sample, dtype, apply_calib, check_compression, **kwargs)\u001b[0m\n",
      "\u001b[1;32m~\\Anaconda3\\envs\\tf2\\lib\\site-packages\\obspy\\core\\util\\decorator.py\u001b[0m in \u001b[0;36m_map_example_filename\u001b[1;34m(func, *args, **kwargs)\u001b[0m\n\u001b[0;32m    298\u001b[0m                         \u001b[1;32mexcept\u001b[0m \u001b[0mIOError\u001b[0m\u001b[1;33m:\u001b[0m\u001b[1;33m\u001b[0m\u001b[0m\n\u001b[0;32m    299\u001b[0m                             \u001b[1;32mpass\u001b[0m\u001b[1;33m\u001b[0m\u001b[0m\n\u001b[1;32m--> 300\u001b[1;33m         \u001b[1;32mreturn\u001b[0m \u001b[0mfunc\u001b[0m\u001b[1;33m(\u001b[0m\u001b[1;33m*\u001b[0m\u001b[0margs\u001b[0m\u001b[1;33m,\u001b[0m \u001b[1;33m**\u001b[0m\u001b[0mkwargs\u001b[0m\u001b[1;33m)\u001b[0m\u001b[1;33m\u001b[0m\u001b[0m\n\u001b[0m\u001b[0;32m    301\u001b[0m     \u001b[1;32mreturn\u001b[0m \u001b[0m_map_example_filename\u001b[0m\u001b[1;33m\u001b[0m\u001b[0m\n\u001b[0;32m    302\u001b[0m \u001b[1;33m\u001b[0m\u001b[0m\n",
      "\u001b[1;32m~\\Anaconda3\\envs\\tf2\\lib\\site-packages\\obspy\\core\\stream.py\u001b[0m in \u001b[0;36mread\u001b[1;34m(pathname_or_url, format, headonly, starttime, endtime, nearest_sample, dtype, apply_calib, check_compression, **kwargs)\u001b[0m\n\u001b[0;32m    210\u001b[0m         \u001b[0mst\u001b[0m \u001b[1;33m=\u001b[0m \u001b[0m_create_example_stream\u001b[0m\u001b[1;33m(\u001b[0m\u001b[0mheadonly\u001b[0m\u001b[1;33m=\u001b[0m\u001b[0mheadonly\u001b[0m\u001b[1;33m)\u001b[0m\u001b[1;33m\u001b[0m\u001b[0m\n\u001b[0;32m    211\u001b[0m     \u001b[1;32melse\u001b[0m\u001b[1;33m:\u001b[0m\u001b[1;33m\u001b[0m\u001b[0m\n\u001b[1;32m--> 212\u001b[1;33m         \u001b[0mst\u001b[0m \u001b[1;33m=\u001b[0m \u001b[0m_generic_reader\u001b[0m\u001b[1;33m(\u001b[0m\u001b[0mpathname_or_url\u001b[0m\u001b[1;33m,\u001b[0m \u001b[0m_read\u001b[0m\u001b[1;33m,\u001b[0m \u001b[1;33m**\u001b[0m\u001b[0mkwargs\u001b[0m\u001b[1;33m)\u001b[0m\u001b[1;33m\u001b[0m\u001b[0m\n\u001b[0m\u001b[0;32m    213\u001b[0m \u001b[1;33m\u001b[0m\u001b[0m\n\u001b[0;32m    214\u001b[0m     \u001b[1;32mif\u001b[0m \u001b[0mlen\u001b[0m\u001b[1;33m(\u001b[0m\u001b[0mst\u001b[0m\u001b[1;33m)\u001b[0m \u001b[1;33m==\u001b[0m \u001b[1;36m0\u001b[0m\u001b[1;33m:\u001b[0m\u001b[1;33m\u001b[0m\u001b[0m\n",
      "\u001b[1;32m~\\Anaconda3\\envs\\tf2\\lib\\site-packages\\obspy\\core\\util\\base.py\u001b[0m in \u001b[0;36m_generic_reader\u001b[1;34m(pathname_or_url, callback_func, **kwargs)\u001b[0m\n\u001b[0;32m    700\u001b[0m                 \u001b[1;32mraise\u001b[0m \u001b[0mIOError\u001b[0m\u001b[1;33m(\u001b[0m\u001b[1;36m2\u001b[0m\u001b[1;33m,\u001b[0m \u001b[1;34m\"No such file or directory\"\u001b[0m\u001b[1;33m,\u001b[0m \u001b[0mpathname\u001b[0m\u001b[1;33m)\u001b[0m\u001b[1;33m\u001b[0m\u001b[0m\n\u001b[0;32m    701\u001b[0m \u001b[1;33m\u001b[0m\u001b[0m\n\u001b[1;32m--> 702\u001b[1;33m         \u001b[0mgeneric\u001b[0m \u001b[1;33m=\u001b[0m \u001b[0mcallback_func\u001b[0m\u001b[1;33m(\u001b[0m\u001b[0mpathnames\u001b[0m\u001b[1;33m[\u001b[0m\u001b[1;36m0\u001b[0m\u001b[1;33m]\u001b[0m\u001b[1;33m,\u001b[0m \u001b[1;33m**\u001b[0m\u001b[0mkwargs\u001b[0m\u001b[1;33m)\u001b[0m\u001b[1;33m\u001b[0m\u001b[0m\n\u001b[0m\u001b[0;32m    703\u001b[0m         \u001b[1;32mif\u001b[0m \u001b[0mlen\u001b[0m\u001b[1;33m(\u001b[0m\u001b[0mpathnames\u001b[0m\u001b[1;33m)\u001b[0m \u001b[1;33m>\u001b[0m \u001b[1;36m1\u001b[0m\u001b[1;33m:\u001b[0m\u001b[1;33m\u001b[0m\u001b[0m\n\u001b[0;32m    704\u001b[0m             \u001b[1;32mfor\u001b[0m \u001b[0mfilename\u001b[0m \u001b[1;32min\u001b[0m \u001b[0mpathnames\u001b[0m\u001b[1;33m[\u001b[0m\u001b[1;36m1\u001b[0m\u001b[1;33m:\u001b[0m\u001b[1;33m]\u001b[0m\u001b[1;33m:\u001b[0m\u001b[1;33m\u001b[0m\u001b[0m\n",
      "\u001b[1;32m<decorator-gen-158>\u001b[0m in \u001b[0;36m_read\u001b[1;34m(filename, format, headonly, **kwargs)\u001b[0m\n",
      "\u001b[1;32m~\\Anaconda3\\envs\\tf2\\lib\\site-packages\\obspy\\core\\util\\decorator.py\u001b[0m in \u001b[0;36muncompress_file\u001b[1;34m(func, filename, *args, **kwargs)\u001b[0m\n\u001b[0;32m    208\u001b[0m     \u001b[1;32melse\u001b[0m\u001b[1;33m:\u001b[0m\u001b[1;33m\u001b[0m\u001b[0m\n\u001b[0;32m    209\u001b[0m         \u001b[1;31m# no compressions\u001b[0m\u001b[1;33m\u001b[0m\u001b[1;33m\u001b[0m\u001b[0m\n\u001b[1;32m--> 210\u001b[1;33m         \u001b[0mresult\u001b[0m \u001b[1;33m=\u001b[0m \u001b[0mfunc\u001b[0m\u001b[1;33m(\u001b[0m\u001b[0mfilename\u001b[0m\u001b[1;33m,\u001b[0m \u001b[1;33m*\u001b[0m\u001b[0margs\u001b[0m\u001b[1;33m,\u001b[0m \u001b[1;33m**\u001b[0m\u001b[0mkwargs\u001b[0m\u001b[1;33m)\u001b[0m\u001b[1;33m\u001b[0m\u001b[0m\n\u001b[0m\u001b[0;32m    211\u001b[0m     \u001b[1;32mreturn\u001b[0m \u001b[0mresult\u001b[0m\u001b[1;33m\u001b[0m\u001b[0m\n\u001b[0;32m    212\u001b[0m \u001b[1;33m\u001b[0m\u001b[0m\n",
      "\u001b[1;32m~\\Anaconda3\\envs\\tf2\\lib\\site-packages\\obspy\\core\\stream.py\u001b[0m in \u001b[0;36m_read\u001b[1;34m(filename, format, headonly, **kwargs)\u001b[0m\n\u001b[0;32m    255\u001b[0m     \"\"\"\n\u001b[0;32m    256\u001b[0m     stream, format = _read_from_plugin('waveform', filename, format=format,\n\u001b[1;32m--> 257\u001b[1;33m                                        headonly=headonly, **kwargs)\n\u001b[0m\u001b[0;32m    258\u001b[0m     \u001b[1;31m# set _format identifier for each element\u001b[0m\u001b[1;33m\u001b[0m\u001b[1;33m\u001b[0m\u001b[0m\n\u001b[0;32m    259\u001b[0m     \u001b[1;32mfor\u001b[0m \u001b[0mtrace\u001b[0m \u001b[1;32min\u001b[0m \u001b[0mstream\u001b[0m\u001b[1;33m:\u001b[0m\u001b[1;33m\u001b[0m\u001b[0m\n",
      "\u001b[1;32m~\\Anaconda3\\envs\\tf2\\lib\\site-packages\\obspy\\core\\util\\base.py\u001b[0m in \u001b[0;36m_read_from_plugin\u001b[1;34m(plugin_type, filename, format, **kwargs)\u001b[0m\n\u001b[0;32m    468\u001b[0m         \u001b[1;32mraise\u001b[0m \u001b[0mTypeError\u001b[0m\u001b[1;33m(\u001b[0m\u001b[0mmsg\u001b[0m \u001b[1;33m%\u001b[0m \u001b[1;33m(\u001b[0m\u001b[0mformat_ep\u001b[0m\u001b[1;33m.\u001b[0m\u001b[0mname\u001b[0m\u001b[1;33m,\u001b[0m \u001b[1;34m', '\u001b[0m\u001b[1;33m.\u001b[0m\u001b[0mjoin\u001b[0m\u001b[1;33m(\u001b[0m\u001b[0meps\u001b[0m\u001b[1;33m)\u001b[0m\u001b[1;33m)\u001b[0m\u001b[1;33m)\u001b[0m\u001b[1;33m\u001b[0m\u001b[0m\n\u001b[0;32m    469\u001b[0m     \u001b[1;31m# read\u001b[0m\u001b[1;33m\u001b[0m\u001b[1;33m\u001b[0m\u001b[0m\n\u001b[1;32m--> 470\u001b[1;33m     \u001b[0mlist_obj\u001b[0m \u001b[1;33m=\u001b[0m \u001b[0mread_format\u001b[0m\u001b[1;33m(\u001b[0m\u001b[0mfilename\u001b[0m\u001b[1;33m,\u001b[0m \u001b[1;33m**\u001b[0m\u001b[0mkwargs\u001b[0m\u001b[1;33m)\u001b[0m\u001b[1;33m\u001b[0m\u001b[0m\n\u001b[0m\u001b[0;32m    471\u001b[0m     \u001b[1;32mreturn\u001b[0m \u001b[0mlist_obj\u001b[0m\u001b[1;33m,\u001b[0m \u001b[0mformat_ep\u001b[0m\u001b[1;33m.\u001b[0m\u001b[0mname\u001b[0m\u001b[1;33m\u001b[0m\u001b[0m\n\u001b[0;32m    472\u001b[0m \u001b[1;33m\u001b[0m\u001b[0m\n",
      "\u001b[1;32m~\\Anaconda3\\envs\\tf2\\lib\\site-packages\\obspy\\io\\mseed\\core.py\u001b[0m in \u001b[0;36m_read_mseed\u001b[1;34m(mseed_object, starttime, endtime, headonly, sourcename, reclen, details, header_byteorder, verbose, **kwargs)\u001b[0m\n\u001b[0;32m    401\u001b[0m             \u001b[0mbfr_np\u001b[0m\u001b[1;33m,\u001b[0m \u001b[0mbuflen\u001b[0m\u001b[1;33m,\u001b[0m \u001b[0mselections\u001b[0m\u001b[1;33m,\u001b[0m \u001b[0mC\u001b[0m\u001b[1;33m.\u001b[0m\u001b[0mc_int8\u001b[0m\u001b[1;33m(\u001b[0m\u001b[0munpack_data\u001b[0m\u001b[1;33m)\u001b[0m\u001b[1;33m,\u001b[0m\u001b[1;33m\u001b[0m\u001b[0m\n\u001b[0;32m    402\u001b[0m             \u001b[0mreclen\u001b[0m\u001b[1;33m,\u001b[0m \u001b[0mC\u001b[0m\u001b[1;33m.\u001b[0m\u001b[0mc_int8\u001b[0m\u001b[1;33m(\u001b[0m\u001b[0mverbose\u001b[0m\u001b[1;33m)\u001b[0m\u001b[1;33m,\u001b[0m \u001b[0mC\u001b[0m\u001b[1;33m.\u001b[0m\u001b[0mc_int8\u001b[0m\u001b[1;33m(\u001b[0m\u001b[0mdetails\u001b[0m\u001b[1;33m)\u001b[0m\u001b[1;33m,\u001b[0m \u001b[0mheader_byteorder\u001b[0m\u001b[1;33m,\u001b[0m\u001b[1;33m\u001b[0m\u001b[0m\n\u001b[1;32m--> 403\u001b[1;33m             alloc_data)\n\u001b[0m\u001b[0;32m    404\u001b[0m     \u001b[1;32mexcept\u001b[0m \u001b[0mInternalMSEEDError\u001b[0m \u001b[1;32mas\u001b[0m \u001b[0me\u001b[0m\u001b[1;33m:\u001b[0m\u001b[1;33m\u001b[0m\u001b[0m\n\u001b[0;32m    405\u001b[0m         \u001b[0mmsg\u001b[0m \u001b[1;33m=\u001b[0m \u001b[0me\u001b[0m\u001b[1;33m.\u001b[0m\u001b[0margs\u001b[0m\u001b[1;33m[\u001b[0m\u001b[1;36m0\u001b[0m\u001b[1;33m]\u001b[0m\u001b[1;33m\u001b[0m\u001b[0m\n",
      "\u001b[1;32m~\\Anaconda3\\envs\\tf2\\lib\\site-packages\\obspy\\io\\mseed\\headers.py\u001b[0m in \u001b[0;36m_wrapper\u001b[1;34m(*args)\u001b[0m\n\u001b[0;32m    823\u001b[0m \u001b[1;33m\u001b[0m\u001b[0m\n\u001b[0;32m    824\u001b[0m             \u001b[1;32mtry\u001b[0m\u001b[1;33m:\u001b[0m\u001b[1;33m\u001b[0m\u001b[0m\n\u001b[1;32m--> 825\u001b[1;33m                 \u001b[1;32mreturn\u001b[0m \u001b[0mfunc\u001b[0m\u001b[1;33m(\u001b[0m\u001b[1;33m*\u001b[0m\u001b[0margs\u001b[0m\u001b[1;33m)\u001b[0m\u001b[1;33m\u001b[0m\u001b[0m\n\u001b[0m\u001b[0;32m    826\u001b[0m             \u001b[1;32mfinally\u001b[0m\u001b[1;33m:\u001b[0m\u001b[1;33m\u001b[0m\u001b[0m\n\u001b[0;32m    827\u001b[0m                 \u001b[1;32mfor\u001b[0m \u001b[0m_w\u001b[0m \u001b[1;32min\u001b[0m \u001b[0m_warns\u001b[0m\u001b[1;33m:\u001b[0m\u001b[1;33m\u001b[0m\u001b[0m\n",
      "\u001b[1;31mOSError\u001b[0m: exception: access violation writing 0x0000000000000000"
     ]
    }
   ],
   "source": [
    "# You Must make a list for each city you are analyzing\n",
    "toronto_readings = []\n",
    "# examplecity_readings = []\n",
    "\n",
    "all_city_lists = [toronto_readings] # You must add all other city lists to this list\n",
    "\n",
    "\n",
    "for station, city_list in zip(stations, all_city_lists):\n",
    "    get_frequency_analysis(station, city_list)"
   ]
  },
  {
   "cell_type": "code",
   "execution_count": 17,
   "metadata": {},
   "outputs": [
    {
     "data": {
      "text/plain": [
       "[<matplotlib.lines.Line2D at 0x154abe42978>]"
      ]
     },
     "execution_count": 17,
     "metadata": {},
     "output_type": "execute_result"
    },
    {
     "data": {
      "image/png": "[encoded data removed]",
      "text/plain": [
       "<Figure size 432x288 with 1 Axes>"
      ]
     },
     "metadata": {
      "needs_background": "light"
     },
     "output_type": "display_data"
    }
   ],
   "source": [
    "plt.plot(np.array(toronto_readings)[:,100])"
   ]
  }
 ],
 "metadata": {
  "kernelspec": {
   "display_name": "Python 3",
   "language": "python",
   "name": "python3"
  },
  "language_info": {
   "codemirror_mode": {
    "name": "ipython",
    "version": 3
   },
   "file_extension": ".py",
   "mimetype": "text/x-python",
   "name": "python",
   "nbconvert_exporter": "python",
   "pygments_lexer": "ipython3",
   "version": "3.7.0"
  }
 },
 "nbformat": 4,
 "nbformat_minor": 4
}
